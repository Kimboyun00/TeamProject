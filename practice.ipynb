{
 "cells": [
  {
   "cell_type": "code",
   "execution_count": null,
   "id": "657b2957",
   "metadata": {},
   "outputs": [],
   "source": [
    "from data_loader import PykrxDataLoader\n",
    "import pandas as pd"
   ]
  },
  {
   "cell_type": "code",
   "execution_count": null,
   "id": "7d34c7e3",
   "metadata": {},
   "outputs": [],
   "source": [
    "import warnings\n",
    "warnings.filterwarnings('ignore')"
   ]
  },
  {
   "cell_type": "code",
   "execution_count": null,
   "id": "46ff8f9e",
   "metadata": {},
   "outputs": [],
   "source": [
    "from pykrx import stock\n",
    "\n",
    "stock.get_market_cap('2023-01-01')"
   ]
  },
  {
   "cell_type": "code",
   "execution_count": null,
   "id": "e403b7da",
   "metadata": {},
   "outputs": [],
   "source": [
    "from pykrx import stock\n",
    "import pandas as pd\n",
    "\n",
    "start_year = 2005\n",
    "end_year = 2024\n",
    "\n",
    "# 결과를 저장할 리스트 생성\n",
    "records = []\n",
    "\n",
    "for year in range(start_year, end_year + 1):\n",
    "    date = f\"{year}-12-31\"  # 연말 기준 (휴장일일 경우 실제 거래일로 조정 필요)\n",
    "    df = stock.get_market_cap_by_ticker(date, market='KOSPI')\n",
    "    # 시가총액 상위 200개 주식코드 추출\n",
    "    top200_codes = df.sort_values(by='시가총액', ascending=False).head(200).index.tolist()\n",
    "    # 각 코드에 대해 연도와 함께 리스트에 저장\n",
    "    for code in top200_codes:\n",
    "        records.append({'연도': year, '주식코드': code})\n",
    "\n",
    "# 리스트를 데이터프레임으로 변환\n",
    "result_df = pd.DataFrame(records)\n",
    "\n",
    "# 결과 확인\n",
    "print(result_df)\n"
   ]
  },
  {
   "cell_type": "code",
   "execution_count": null,
   "id": "5d171a4d",
   "metadata": {},
   "outputs": [],
   "source": [
    "frequency = result_df['주식코드'].value_counts()\n",
    "frequency_df = frequency.reset_index()\n",
    "frequency_df.columns = ['주식코드', '빈도수']\n",
    "code_df = frequency_df[['주식코드']]\n"
   ]
  },
  {
   "cell_type": "code",
   "execution_count": null,
   "id": "f25aba23",
   "metadata": {},
   "outputs": [],
   "source": [
    "start_year = 2004\n",
    "end_year = 2024\n",
    "\n",
    "# 결과를 저장할 리스트\n",
    "records = []\n",
    "\n",
    "for code in code_df['주식코드']:\n",
    "    for year in range(start_year, end_year + 1):\n",
    "        date = f\"{year}1231\"\n",
    "        try:\n",
    "            df = stock.get_market_ohlcv_by_date(date, date, code)\n",
    "            if not df.empty:\n",
    "                close_price = df['종가'].iloc[0]\n",
    "            else:\n",
    "                close_price = None\n",
    "        except:\n",
    "            close_price = None\n",
    "        records.append({'주식코드': code, '연도': year, '종가': close_price})\n",
    "\n",
    "# 리스트를 데이터프레임으로 변환\n",
    "price_df = pd.DataFrame(records)\n",
    "\n",
    "print(price_df)"
   ]
  },
  {
   "cell_type": "code",
   "execution_count": null,
   "id": "224a9bcf",
   "metadata": {},
   "outputs": [],
   "source": [
    "start_year = 2004\n",
    "end_year = 2024\n",
    "\n",
    "records = []\n",
    "\n",
    "for code in code_df['주식코드']:\n",
    "    # 연도별(연말 기준) OHLCV 데이터 한 번에 가져오기\n",
    "    df = stock.get_market_ohlcv_by_date(\n",
    "        f\"{start_year}0101\", f\"{end_year}1231\", code, freq='y'\n",
    "    )\n",
    "    if not df.empty:\n",
    "        for date, row in df.iterrows():\n",
    "            year = date.year\n",
    "            # 연도 범위 내 데이터만 기록\n",
    "            if start_year <= year <= end_year:\n",
    "                records.append({'주식코드': code, '연도': year, '종가': row['종가']})\n",
    "\n",
    "# long-form 데이터프레임 생성\n",
    "price_df = pd.DataFrame(records)\n",
    "\n",
    "print(price_df)"
   ]
  },
  {
   "cell_type": "code",
   "execution_count": null,
   "id": "d14ccde5",
   "metadata": {},
   "outputs": [],
   "source": [
    "# 필수 연도 범위 생성 (2004~2024)\n",
    "required_years = set(range(2004, 2025))\n",
    "\n",
    "# 주식코드별 연도 존재 여부 체크\n",
    "complete_stocks = price_df.groupby('주식코드')['연도'].agg(\n",
    "    lambda x: required_years.issubset(set(x))\n",
    ")\n",
    "\n",
    "# 결과 필터링\n",
    "complete_codes = complete_stocks[complete_stocks].index.tolist()\n",
    "\n",
    "print(\"누락 없는 주식코드:\", complete_codes)"
   ]
  },
  {
   "cell_type": "code",
   "execution_count": null,
   "id": "769694c8",
   "metadata": {},
   "outputs": [],
   "source": [
    "pd.DataFrame(price_df[['연도']].value_counts()).sort_values(by='연도')"
   ]
  },
  {
   "cell_type": "markdown",
   "id": "0aecb951",
   "metadata": {},
   "source": [
    "## 재무지표"
   ]
  },
  {
   "cell_type": "code",
   "execution_count": null,
   "id": "f87724e9",
   "metadata": {},
   "outputs": [],
   "source": [
    "ts_data = pd.read_excel(\"ts2000.xlsx\", dtype={'거래소코드': str})\n",
    "ts_data"
   ]
  },
  {
   "cell_type": "code",
   "execution_count": null,
   "id": "570512fb",
   "metadata": {},
   "outputs": [],
   "source": [
    "ts_df = ts_data[['거래소코드','부가가치(IFRS)(백만원)']]"
   ]
  },
  {
   "cell_type": "code",
   "execution_count": null,
   "id": "3606b8bd",
   "metadata": {},
   "outputs": [],
   "source": [
    "ts_df['연도'] = ts_data['회계년도'].str.split('/').str[0]"
   ]
  },
  {
   "cell_type": "code",
   "execution_count": null,
   "id": "4d36acc3",
   "metadata": {},
   "outputs": [],
   "source": [
    "ts_df = ts_df.sort_values(by=['거래소코드', '연도']).reset_index(drop=True)\n",
    "\n",
    "# 거래소코드별로 자본집약도의 연도별 변화율(전년 대비 증감률) 계산\n",
    "ts_df['부가가치_변화율'] = ts_df.groupby('거래소코드')['부가가치(IFRS)(백만원)'].pct_change()\n",
    "\n",
    "ts_df"
   ]
  }
 ],
 "metadata": {
  "kernelspec": {
   "display_name": "Python 3",
   "language": "python",
   "name": "python3"
  },
  "language_info": {
   "codemirror_mode": {
    "name": "ipython",
    "version": 3
   },
   "file_extension": ".py",
   "mimetype": "text/x-python",
   "name": "python",
   "nbconvert_exporter": "python",
   "pygments_lexer": "ipython3",
   "version": "3.11.0"
  }
 },
 "nbformat": 4,
 "nbformat_minor": 5
}
