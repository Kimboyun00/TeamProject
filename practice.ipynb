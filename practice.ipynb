{
 "cells": [
  {
   "cell_type": "code",
   "execution_count": 1,
   "id": "657b2957",
   "metadata": {},
   "outputs": [],
   "source": [
    "from data_loader import PykrxDataLoader\n",
    "import pandas as pd\n",
    "from pykrx import stock\n",
    "import numpy as np\n",
    "import warnings\n",
    "warnings.filterwarnings('ignore')"
   ]
  },
  {
   "cell_type": "markdown",
   "id": "f246bc51",
   "metadata": {},
   "source": [
    "### 연도별 시가총액 상위 200개 기업리스트의 수익률 수집(2015~2024)"
   ]
  },
  {
   "cell_type": "code",
   "execution_count": 3,
   "id": "e403b7da",
   "metadata": {},
   "outputs": [
    {
     "name": "stdout",
     "output_type": "stream",
     "text": [
      "The date you entered 20151231 seems to be a holiday. PYKRX changes the date parameter to 20151230.\n",
      "The date you entered 20161231 seems to be a holiday. PYKRX changes the date parameter to 20161229.\n",
      "The date you entered 20171231 seems to be a holiday. PYKRX changes the date parameter to 20171228.\n",
      "The date you entered 20181231 seems to be a holiday. PYKRX changes the date parameter to 20181228.\n",
      "The date you entered 20191231 seems to be a holiday. PYKRX changes the date parameter to 20191230.\n",
      "The date you entered 20201231 seems to be a holiday. PYKRX changes the date parameter to 20201230.\n",
      "The date you entered 20211231 seems to be a holiday. PYKRX changes the date parameter to 20211230.\n",
      "The date you entered 20221231 seems to be a holiday. PYKRX changes the date parameter to 20221229.\n",
      "The date you entered 20231231 seems to be a holiday. PYKRX changes the date parameter to 20231228.\n",
      "The date you entered 20241231 seems to be a holiday. PYKRX changes the date parameter to 20241230.\n"
     ]
    }
   ],
   "source": [
    "start_year = 2015\n",
    "end_year = 2024\n",
    "\n",
    "# 결과를 저장할 리스트 생성\n",
    "records = []\n",
    "\n",
    "for year in range(start_year, end_year + 1):\n",
    "    date = f\"{year}-12-31\"  # 연말 기준 (휴장일일 경우 이전 영업입)\n",
    "    df = stock.get_index_portfolio_deposit_file(\"1028\", f\"{year}1231\", alternative = True)\n",
    "    # 각 코드에 대해 연도와 함께 리스트에 저장\n",
    "    for code in df:\n",
    "        records.append({'연도': year, '주식코드': code})\n",
    "\n",
    "# 리스트를 데이터프레임으로 변환\n",
    "result_df = pd.DataFrame(records)\n",
    "\n",
    "# 결과 확인\n",
    "# print(result_df)\n",
    "\n",
    "# 상위 200위 내에 들어온 기업의 빈도수\n",
    "frequency = result_df['주식코드'].value_counts()\n",
    "frequency_df = frequency.reset_index()\n",
    "frequency_df.columns = ['주식코드', '빈도수']\n",
    "# print(frequency_df)\n",
    "code_df = frequency_df[['주식코드']]\n",
    "# code_df['주식코드'].tolist()\n",
    "# print(code_df)\n",
    "\n",
    "# 코스피 200에 한번이라도 들어온 기업들의 연도별 수익률 수집\n",
    "records = []\n",
    "for code in code_df['주식코드']:\n",
    "    df = stock.get_market_ohlcv_by_date(\n",
    "        f\"{start_year}0101\", f\"{end_year}1231\", code, freq='y'\n",
    "    )\n",
    "    if not df.empty:\n",
    "        df = df[['시가', '종가']].reset_index()  # 시가 포함\n",
    "        df['연도'] = df['날짜'].dt.year\n",
    "        # 시가 대비 종가 변화율 계산\n",
    "        df['수익률'] = ((df['종가'] - df['시가']) / df['시가'])\n",
    "        records.append(df.assign(주식코드=code))\n",
    "\n",
    "# Long-form 데이터 생성\n",
    "result_df = pd.concat(records)[['주식코드', '연도', '수익률']]\n",
    "\n",
    "# print(result_df)\n",
    "\n",
    "# 1. 무한대 값을 NaN으로 변환\n",
    "result_df = result_df.replace([np.inf, -np.inf], np.nan)\n",
    "\n",
    "# 완성된 데이터프레임을 csv로 저장\n",
    "result_df.dropna(inplace=True)\n",
    "result_df.to_csv(\"./data/rtn_data.csv\", index=False)"
   ]
  },
  {
   "cell_type": "markdown",
   "id": "0aecb951",
   "metadata": {},
   "source": [
    "### 재무지표"
   ]
  },
  {
   "cell_type": "code",
   "execution_count": 4,
   "id": "96348066",
   "metadata": {},
   "outputs": [],
   "source": [
    "import pandas as pd"
   ]
  },
  {
   "cell_type": "code",
   "execution_count": null,
   "id": "f87724e9",
   "metadata": {},
   "outputs": [],
   "source": [
    "\n",
    "def ts_data_loader(name):\n",
    "    df = pd.read_excel(f\"./data/{name}.xlsx\", dtype={'거래소코드': str})\n",
    "    ts_list = df.columns.unique()\n",
    "\n",
    "    ts_df = df.copy()\n",
    "    ts_df['회계년도'] = ts_df['회계년도'].str.split('/').str[0].astype(int)\n",
    "    ts_df['거래소코드'] = ts_df['거래소코드'].str.strip()\n",
    "    ts_df.rename(columns = {'회계년도':'연도',\n",
    "                            '거래소코드':'주식코드'}, inplace=True)\n",
    "    # ts_df = ts_df.drop('종가(원)', axis=1)\n",
    "    ts_df = ts_df.dropna()\n",
    "    # print(ts_df)\n",
    "\n",
    "    # 중복 확인\n",
    "    duplicates = ts_df.duplicated(subset=['주식코드', '연도'], keep=False)\n",
    "    ts_df[duplicates]\n",
    "\n",
    "    # 중복된 ('주식코드', '연도') 조합에서 첫 번째 값만 남김\n",
    "    ts_df = ts_df.drop_duplicates(subset=['주식코드', '연도'], keep='first').sort_values(by=['주식코드','연도'])\n",
    "    ts_df.to_csv(f'./data/{name}.csv', index=False, encoding=\"utf-8-sig\")\n",
    "\n",
    "    return ts_df"
   ]
  },
  {
   "cell_type": "code",
   "execution_count": 23,
   "id": "180a17dd",
   "metadata": {},
   "outputs": [],
   "source": [
    "df_생산성 = ts_data_loader('생산성')\n",
    "df_성장성 = ts_data_loader('성장성')\n",
    "df_수익성 = ts_data_loader('수익성')\n",
    "df_안정성 = ts_data_loader('안정성')\n",
    "df_활동성 = ts_data_loader('활동성')"
   ]
  },
  {
   "cell_type": "code",
   "execution_count": 28,
   "id": "96518bcf",
   "metadata": {},
   "outputs": [],
   "source": [
    "from functools import reduce\n",
    "import pandas as pd\n",
    "\n",
    "# 데이터프레임 리스트로 묶기\n",
    "dfs = [df_생산성, df_성장성, df_수익성, df_안정성, df_활동성]\n",
    "\n",
    "# 'key' 컬럼을 기준으로 내부조인\n",
    "joined_df = reduce(lambda left, right: pd.merge(left, right, on=['회사명','주식코드','연도'], how='inner'), dfs)\n",
    "\n",
    "# 결과 확인\n",
    "# print(joined_df.head())\n",
    "\n",
    "joined_df.to_csv(\"./data/ts_data.csv\", index=False, encoding=\"utf-8-sig\")"
   ]
  }
 ],
 "metadata": {
  "kernelspec": {
   "display_name": "Python 3",
   "language": "python",
   "name": "python3"
  },
  "language_info": {
   "codemirror_mode": {
    "name": "ipython",
    "version": 3
   },
   "file_extension": ".py",
   "mimetype": "text/x-python",
   "name": "python",
   "nbconvert_exporter": "python",
   "pygments_lexer": "ipython3",
   "version": "3.11.0"
  }
 },
 "nbformat": 4,
 "nbformat_minor": 5
}
